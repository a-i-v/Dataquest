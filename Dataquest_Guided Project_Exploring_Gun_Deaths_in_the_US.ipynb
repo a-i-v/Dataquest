{
 "cells": [
  {
   "cell_type": "code",
   "execution_count": 1,
   "metadata": {
    "collapsed": true
   },
   "outputs": [],
   "source": [
    "import csv\n",
    "import datetime\n",
    "\n",
    "# Reading the dataset in as a list using the csv module\n",
    "f = open(\"guns.csv\", \"r\")\n",
    "read = csv.reader(f)\n",
    "data = list(read)\n",
    "\n",
    "# Headers and Data distinguishing\n",
    "headers = data[:1]\n",
    "data = data[1:len(data)]\n",
    "\n",
    "# Function for statistics calculation\n",
    "def counts(lst):\n",
    "    dic_counts = {}\n",
    "    for elm in lst:\n",
    "        if elm in dic_counts:\n",
    "            dic_counts[elm] += 1\n",
    "        if elm not in dic_counts:\n",
    "            dic_counts[elm] = 1\n",
    "    return dic_counts"
   ]
  },
  {
   "cell_type": "code",
   "execution_count": 2,
   "metadata": {
    "collapsed": false
   },
   "outputs": [
    {
     "data": {
      "text/plain": [
       "{'2012': 33563, '2013': 33636, '2014': 33599}"
      ]
     },
     "execution_count": 2,
     "metadata": {},
     "output_type": "execute_result"
    }
   ],
   "source": [
    "#Death quantity per year calculation\n",
    "years = [row[1] for row in data]\n",
    "year_counts = counts(years)\n",
    "year_counts"
   ]
  },
  {
   "cell_type": "code",
   "execution_count": 3,
   "metadata": {
    "collapsed": false
   },
   "outputs": [
    {
     "name": "stdout",
     "output_type": "stream",
     "text": [
      "3079 2013-07-01 00:00:00\n",
      "2357 2012-02-01 00:00:00\n"
     ]
    }
   ],
   "source": [
    "# Death quantity per month and year\n",
    "dates = [datetime.datetime(year=int(row[1]),month=int(row[2]),day=1) \n",
    "         for row in data]\n",
    "date_counts = counts(dates)\n",
    "date_counts\n",
    "\n",
    "# Maximum and minimum values calculation per year+month\n",
    "maxim = None\n",
    "max_date = None\n",
    "minim = None\n",
    "min_date = None\n",
    "for key in date_counts:\n",
    "    if maxim is None or date_counts[key] > maxim:\n",
    "        maxim = date_counts[key]\n",
    "        max_date = key\n",
    "    if minim is None or date_counts[key] < minim:\n",
    "        minim = date_counts[key]\n",
    "        min_date = key\n",
    "print(maxim, max_date)\n",
    "print(minim, min_date)"
   ]
  },
  {
   "cell_type": "code",
   "execution_count": 4,
   "metadata": {
    "collapsed": false
   },
   "outputs": [
    {
     "data": {
      "text/plain": [
       "{'F': 14449, 'M': 86349}"
      ]
     },
     "execution_count": 4,
     "metadata": {},
     "output_type": "execute_result"
    }
   ],
   "source": [
    "# Death per sex calculation\n",
    "sex = [row[5] for row in data]\n",
    "sex_counts = counts(sex)\n",
    "sex_counts"
   ]
  },
  {
   "cell_type": "code",
   "execution_count": 5,
   "metadata": {
    "collapsed": false
   },
   "outputs": [
    {
     "data": {
      "text/plain": [
       "{'Asian/Pacific Islander': 1326,\n",
       " 'Black': 23296,\n",
       " 'Hispanic': 9022,\n",
       " 'Native American/Native Alaskan': 917,\n",
       " 'White': 66237}"
      ]
     },
     "execution_count": 5,
     "metadata": {},
     "output_type": "execute_result"
    }
   ],
   "source": [
    "# Death per race calculation\n",
    "race = [row[7] for row in data]\n",
    "race_counts = counts(race)\n",
    "race_counts\n",
    "race_counts"
   ]
  },
  {
   "cell_type": "markdown",
   "metadata": {},
   "source": [
    "# Conclusions:\n",
    "## Death per year calculations\n",
    "Deaths quantity equals 33600 in average\n",
    "\n",
    "## Death per month and year calculations:\n",
    "Maximum deaths equal 3079 on 2013-07-01\n",
    "Minimum deaths equal 2357 on 2012-02-01\n",
    "\n",
    "## Sex statistics calculations:\n",
    "Men are involved in gun deaths more frequent than women\n",
    "\n",
    "## Race statistics calculations:\n",
    "Native americans kill people less rarely than others, the highest value is found in white people race."
   ]
  },
  {
   "cell_type": "code",
   "execution_count": 6,
   "metadata": {
    "collapsed": false
   },
   "outputs": [
    {
     "data": {
      "text/plain": [
       "[['cen42010',\n",
       "  'April 1, 2010 Census',\n",
       "  'totsex',\n",
       "  'Both Sexes',\n",
       "  'tothisp',\n",
       "  'Total',\n",
       "  '0100000US',\n",
       "  '',\n",
       "  'United States',\n",
       "  '308745538',\n",
       "  '197318956',\n",
       "  '44618105',\n",
       "  '40250635',\n",
       "  '3739506',\n",
       "  '15159516',\n",
       "  '674625',\n",
       "  '6984195']]"
      ]
     },
     "execution_count": 6,
     "metadata": {},
     "output_type": "execute_result"
    }
   ],
   "source": [
    "d = open(\"census.csv\",\"r\")\n",
    "census_read = csv.reader(d)\n",
    "census = list(census_read)\n",
    "census = census[1:2]\n",
    "census\n"
   ]
  },
  {
   "cell_type": "markdown",
   "metadata": {},
   "source": [
    "## Deaths quantity per 100000 of each race"
   ]
  },
  {
   "cell_type": "code",
   "execution_count": 7,
   "metadata": {
    "collapsed": false
   },
   "outputs": [
    {
     "data": {
      "text/plain": [
       "{'Asian/Pacific Islander': 8.374309664161762,\n",
       " 'Black': 57.8773477735196,\n",
       " 'Hispanic': 20.220491210910907,\n",
       " 'Native American/Native Alaskan': 24.521955573811088,\n",
       " 'White': 33.56849303419181}"
      ]
     },
     "execution_count": 7,
     "metadata": {},
     "output_type": "execute_result"
    }
   ],
   "source": [
    "mapping = {}\n",
    "mapping[\"Asian/Pacific Islander\"] = 674625 + 15159516\n",
    "mapping[\"Black\"] = 40250635\n",
    "mapping[\"Native American/Native Alaskan\"] = 3739506\n",
    "mapping[\"Hispanic\"] = 44618105\n",
    "mapping[\"White\"] = 197318956\n",
    "race_per_hundred = {}\n",
    "for key in race_counts:\n",
    "    race_per_hundred[key] = (race_counts[key]/mapping[key]) * 100000\n",
    "race_per_hundred"
   ]
  },
  {
   "cell_type": "markdown",
   "metadata": {},
   "source": [
    "## Filtering by Homicide Intent"
   ]
  },
  {
   "cell_type": "code",
   "execution_count": 8,
   "metadata": {
    "collapsed": false
   },
   "outputs": [
    {
     "data": {
      "text/plain": [
       "{'Asian/Pacific Islander': 3.5366616982885275,\n",
       " 'Black': 48.47376942003524,\n",
       " 'Hispanic': 12.62940234687242,\n",
       " 'Native American/Native Alaskan': 8.744470526320857,\n",
       " 'White': 4.636148591826119}"
      ]
     },
     "execution_count": 8,
     "metadata": {},
     "output_type": "execute_result"
    }
   ],
   "source": [
    "intents = [item[3] for item in data]\n",
    "races = [item[7] for item in data]\n",
    "homicide_race_counts = {}\n",
    "for i, race in enumerate(races):\n",
    "    if intents[i] == \"Homicide\":\n",
    "        if race not in homicide_race_counts:\n",
    "            homicide_race_counts[race] = 1\n",
    "        if race in homicide_race_counts:\n",
    "            homicide_race_counts[race] += 1\n",
    "homicide_race_per_hundred = {}\n",
    "for key in homicide_race_counts:\n",
    "    homicide_race_per_hundred[key] = (homicide_race_counts[key]/mapping[key])* 100000\n",
    "homicide_race_per_hundred "
   ]
  },
  {
   "cell_type": "code",
   "execution_count": null,
   "metadata": {
    "collapsed": true
   },
   "outputs": [],
   "source": []
  }
 ],
 "metadata": {
  "kernelspec": {
   "display_name": "Python 3",
   "language": "python",
   "name": "python3"
  },
  "language_info": {
   "codemirror_mode": {
    "name": "ipython",
    "version": 3
   },
   "file_extension": ".py",
   "mimetype": "text/x-python",
   "name": "python",
   "nbconvert_exporter": "python",
   "pygments_lexer": "ipython3",
   "version": "3.4.3"
  }
 },
 "nbformat": 4,
 "nbformat_minor": 0
}
